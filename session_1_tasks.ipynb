{
  "cells": [
    {
      "cell_type": "markdown",
      "metadata": {
        "id": "view-in-github",
        "colab_type": "text"
      },
      "source": [
        "<a href=\"https://colab.research.google.com/github/Praveen-Kumar-404/DS-1-Test/blob/main/session_1_tasks.ipynb\" target=\"_parent\"><img src=\"https://colab.research.google.com/assets/colab-badge.svg\" alt=\"Open In Colab\"/></a>"
      ]
    },
    {
      "cell_type": "code",
      "execution_count": null,
      "id": "f989ab15",
      "metadata": {
        "id": "f989ab15",
        "colab": {
          "base_uri": "https://localhost:8080/"
        },
        "outputId": "1d65b1a2-60d3-44b4-f615-dce0cfd1529e"
      },
      "outputs": [
        {
          "output_type": "stream",
          "name": "stdout",
          "text": [
            "Enter temprature in celcious65\n",
            "65.0°C is equal to 149.0°F\n"
          ]
        }
      ],
      "source": [
        "\"\"\"\n",
        "\n",
        "# Write your code here\n",
        "\n",
        "\"\"\"### Q2:- Write a program that will convert celsius value to fahrenheit.\"\"\n",
        "\n",
        "celsius = float(input(\"Enter temprature in celcious\"))\n",
        "fahrenheit = (celsius * 9/5) + 32\n",
        "\n",
        "print(f\"{celsius}°C is equal to {fahrenheit}°F\")"
      ]
    },
    {
      "cell_type": "code",
      "execution_count": null,
      "id": "f5443dbf",
      "metadata": {
        "colab": {
          "base_uri": "https://localhost:8080/"
        },
        "id": "f5443dbf",
        "outputId": "6e133a86-67cf-4b7b-e148-a520f513723d"
      },
      "outputs": [
        {
          "output_type": "stream",
          "name": "stdout",
          "text": [
            "Enter first number: 56\n",
            "Enter second number: 46\n",
            "Before swapping: num1 = 56.0 , num2 = 46.0\n",
            "After swapping: num1 = 46.0 , num2 = 56.0\n"
          ]
        }
      ],
      "source": [
        "\"\"\"### Q3:- Take 2 numbers as input from the user.Write a program to swap the numbers without using any special python syntax.\"\"\"\n",
        "\n",
        "num1 = float(input(\"Enter first number: \"))\n",
        "num2 = float(input(\"Enter second number: \"))\n",
        "\n",
        "print(\"Before swapping: num1 =\", num1, \", num2 =\", num2)\n",
        "\n",
        "temp = num1\n",
        "num1 = num2\n",
        "num2 = temp\n",
        "\n",
        "print(\"After swapping: num1 =\", num1, \", num2 =\", num2)"
      ]
    },
    {
      "cell_type": "code",
      "execution_count": null,
      "id": "24bdf59d",
      "metadata": {
        "id": "24bdf59d",
        "colab": {
          "base_uri": "https://localhost:8080/"
        },
        "outputId": "ef09a1f4-deb9-4ad1-9a18-c34e2724fa1d"
      },
      "outputs": [
        {
          "output_type": "stream",
          "name": "stdout",
          "text": [
            "Enter x1: 5\n",
            "Enter y1: 4\n",
            "Enter x2: 6\n",
            "Enter y2: 5\n",
            "Euclidean distance between the two points is: 1.4142135623730951\n"
          ]
        }
      ],
      "source": [
        "\"\"\"### Q4:- Write a program to find the euclidean distance between two coordinates.Take both the coordinates from the user as input.\"\"\"\n",
        "import math\n",
        "\n",
        "\n",
        "x1 = float(input(\"Enter x1: \"))\n",
        "y1 = float(input(\"Enter y1: \"))\n",
        "x2 = float(input(\"Enter x2: \"))\n",
        "y2 = float(input(\"Enter y2: \"))\n",
        "\n",
        "distance = math.sqrt((x2 - x1) ** 2 + (y2 - y1) ** 2)\n",
        "\n",
        "print(\"Euclidean distance between the two points is:\", distance)"
      ]
    },
    {
      "cell_type": "code",
      "execution_count": null,
      "id": "3ac7108f",
      "metadata": {
        "id": "3ac7108f",
        "colab": {
          "base_uri": "https://localhost:8080/"
        },
        "outputId": "8cde640b-3ea6-4976-cb96-05c0f62f917e"
      },
      "outputs": [
        {
          "output_type": "stream",
          "name": "stdout",
          "text": [
            "Enter the principal amount: 100\n",
            "Enter the rate of interest (in %): 6\n",
            "Enter the time period (in years): 12\n",
            "Simple Interest is: 72.0\n"
          ]
        }
      ],
      "source": [
        "\"\"\"### Q5:- Write a program to find the simple interest when the value of principle,rate of interest and time period is provided by the user.\n",
        "\n",
        "\"\"\"\n",
        "\n",
        "principal = float(input(\"Enter the principal amount: \"))\n",
        "rate = float(input(\"Enter the rate of interest (in %): \"))\n",
        "time = float(input(\"Enter the time period (in years): \"))\n",
        "\n",
        "\n",
        "simple_interest = (principal * rate * time) / 100\n",
        "\n",
        "print(\"Simple Interest is:\", simple_interest)"
      ]
    },
    {
      "cell_type": "code",
      "execution_count": null,
      "id": "11154721",
      "metadata": {
        "id": "11154721",
        "outputId": "9a84fa84-b702-448f-8077-f8c71ae447f4",
        "colab": {
          "base_uri": "https://localhost:8080/"
        }
      },
      "outputs": [
        {
          "output_type": "stream",
          "name": "stdout",
          "text": [
            "Enter total number of heads: 2\n",
            "Enter total number of legs: 8\n",
            "Dogs: 2\n",
            "Chickens: 0\n"
          ]
        }
      ],
      "source": [
        "\"\"\"### Q6:- Write a program that will tell the number of dogs and chicken are there when the user will provide the value of total heads and legs.\n",
        "\n",
        "For example:\n",
        "Input:\n",
        "heads -> 4\n",
        "legs -> 12\n",
        "<br>\n",
        "Output:\n",
        "dogs -> 2\n",
        "chicken -> 2\n",
        "\"\"\"\n",
        "\n",
        "heads = int(input(\"Enter total number of heads: \"))\n",
        "legs = int(input(\"Enter total number of legs: \"))\n",
        "\n",
        "if legs % 2 != 0:\n",
        "    print(\"Invalid input: Legs should be an even number.\")\n",
        "else:\n",
        "    dogs = (legs - 2 * heads) // 2\n",
        "    # Calculating number of chickens\n",
        "    chickens = heads - dogs\n",
        "\n",
        "    # Check if the solution is valid (non-negative values)\n",
        "    if dogs < 0 or chickens < 0:\n",
        "        print(\"No valid solution.\")\n",
        "    else:\n",
        "        print(\"Dogs:\", dogs)\n",
        "        print(\"Chickens:\", chickens)"
      ]
    },
    {
      "cell_type": "code",
      "execution_count": null,
      "id": "52182af8",
      "metadata": {
        "id": "52182af8",
        "colab": {
          "base_uri": "https://localhost:8080/"
        },
        "outputId": "1bb76c3d-4555-4398-9e40-c90cfbab75f0"
      },
      "outputs": [
        {
          "name": "stdout",
          "output_type": "stream",
          "text": [
            "Enter total number of heads: 2\n",
            "Enter total number of legs: 6\n"
          ]
        }
      ],
      "source": [
        "\"\"\"### Q7:- Write a program to find the sum of squares of first n natural numbers where n will be provided by the user.\"\"\"\n",
        "\n",
        "heads = int(input(\"Enter total number of heads: \"))\n",
        "legs = int(input(\"Enter total number of legs: \"))\n",
        "\n",
        "\n",
        "if legs % 2 != 0:\n",
        "    print(\"Invalid input: Legs should be an even number.\")\n",
        "\n",
        "    dogs = (legs - 2 * heads) // 2\n",
        "\n",
        "    chickens = heads - dogs\n",
        "\n",
        "\n",
        "    if dogs < 0 or chickens < 0:\n",
        "        print(\"No valid solution.\")\n",
        "    else:\n",
        "        print(\"Dogs:\", dogs)\n",
        "        print(\"Chickens:\", chickens)"
      ]
    },
    {
      "cell_type": "code",
      "execution_count": null,
      "id": "b454df37",
      "metadata": {
        "id": "b454df37"
      },
      "outputs": [],
      "source": [
        "\"\"\"### Q8:- Given the first 2 terms of an Arithmetic Series.Find the Nth term of the series. Assume all inputs are provided by the user.\"\"\"\n",
        "\n",
        "first_term = int(input(\"Enter the first term: \"))\n",
        "second_term = int(input(\"Enter the second term: \"))\n",
        "n = int(input(\"Enter the term number you want to find: \"))\n",
        "\n",
        "d = second_term - first_term\n",
        "\n",
        "nth_term = first_term + (n - 1) * d\n",
        "\n",
        "print(\"The\", n, \"th term of the series is:\", nth_term)\n"
      ]
    },
    {
      "cell_type": "code",
      "execution_count": null,
      "id": "971725e3",
      "metadata": {
        "id": "971725e3"
      },
      "outputs": [],
      "source": [
        "\"\"\"### Q9:- Given 2 fractions, find the sum of those 2 fractions.Take the numerator and denominator values of the fractions from the user.\"\"\"\n",
        "\n",
        "\n",
        "num1 = int(input(\"Enter numerator of first fraction: \"))\n",
        "den1 = int(input(\"Enter denominator of first fraction: \"))\n",
        "num2 = int(input(\"Enter numerator of second fraction: \"))\n",
        "den2 = int(input(\"Enter denominator of second fraction: \"))\n",
        "\n",
        "common_denominator = den1 * den2\n",
        "\n",
        "new_num1 = num1 * den2\n",
        "new_num2 = num2 * den1\n",
        "\n",
        "sum_numerator = new_num1 + new_num2\n",
        "\n",
        "print(\"Sum of the two fractions is:\", sum_numerator, \"/\", common_denominator)\n"
      ]
    },
    {
      "cell_type": "code",
      "execution_count": null,
      "id": "11497682",
      "metadata": {
        "id": "11497682"
      },
      "outputs": [],
      "source": [
        "\"\"\"### Q10:- Given the height, width and breadth of a milk tank, you have to find out how many glasses of milk can be obtained? Assume all the inputs are provided by the user.\n",
        "\n",
        "\n",
        "\n",
        "Input:<br>\n",
        "Dimensions of the milk tank<br>\n",
        "H = 20cm, L = 20cm, B = 20cm\n",
        "<br><br>\n",
        "Dimensions of the glass<br>\n",
        "h = 3cm, r = 1cm\n",
        "\"\"\"\n",
        "\n",
        "\n",
        "H = int(input(\"Enter height of the tank (cm): \"))\n",
        "L = int(input(\"Enter length of the tank (cm): \"))\n",
        "B = int(input(\"Enter breadth of the tank (cm): \"))\n",
        "\n",
        "h = int(input(\"Enter height of the glass (cm): \"))\n",
        "r = int(input(\"Enter radius of the glass (cm): \"))\n",
        "\n",
        "\n",
        "tank_volume = H * L * B\n",
        "glass_volume = 3.14 * r * r * h\n",
        "\n",
        "number_of_glasses = int(tank_volume // glass_volume)\n",
        "\n",
        "print(\"Total number of glasses of milk that can be obtained:\", number_of_glasses)"
      ]
    }
  ],
  "metadata": {
    "jupytext": {
      "cell_metadata_filter": "-all",
      "main_language": "python",
      "notebook_metadata_filter": "-all"
    },
    "colab": {
      "provenance": [],
      "include_colab_link": true
    },
    "language_info": {
      "name": "python"
    },
    "kernelspec": {
      "name": "python3",
      "display_name": "Python 3"
    }
  },
  "nbformat": 4,
  "nbformat_minor": 5
}